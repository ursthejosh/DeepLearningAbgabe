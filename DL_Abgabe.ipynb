{
 "cells": [
  {
   "cell_type": "code",
   "execution_count": 1,
   "metadata": {
    "collapsed": true
   },
   "outputs": [
    {
     "name": "stdout",
     "output_type": "stream",
     "text": [
      "hello World\n"
     ]
    }
   ],
   "source": [
    "print(\"hello World\")\n",
    "\n",
    "import tensorflow as tf\n",
    "import numpy as np\n",
    "import summaries"
   ]
  },
  {
   "cell_type": "code",
   "execution_count": null,
   "outputs": [],
   "source": [],
   "metadata": {
    "collapsed": false
   }
  },
  {
   "cell_type": "code",
   "execution_count": null,
   "outputs": [],
   "source": [],
   "metadata": {
    "collapsed": false
   }
  },
  {
   "cell_type": "code",
   "execution_count": null,
   "outputs": [],
   "source": [],
   "metadata": {
    "collapsed": false
   }
  },
  {
   "cell_type": "markdown",
   "source": [
    "# First steps in deep learning\n",
    "\n",
    "## Daten laden:\n",
    "## Normieren:\n",
    "## Modell erstellen: bzw Netz erstellen\n",
    "### Flatten Layer:\n",
    "nimmt Matrizen und erstellt daraus einen eindimensionalen Vektor mit den \"Zeilen\" hintereinander\n",
    "### Dense Layer:\n",
    "fully connected Layer, macht aus x Eingaben y Ausgabeparameter, ist zwar langsam aber dafür sehr präzise\n",
    "### Output-Layer:\n",
    "10 Möglichkeiten, je nach gewichtung wird ein Ausgang gewählt.\n",
    "## Modell kompilieren:\n",
    "Tensorflow-Ding\n",
    "definiert optimizer (wie macht mans besser), Loss (Loss-Funktion) und Metrik (Was wird als gut bewertet)\n",
    "## modell trainieren:\n",
    "model.fit\n",
    "\n",
    "## Modell predicten\n",
    "kann man auch bezüglich der Fehler prüfen, z.B.: warum wurde das nicht erkannt?\n",
    "model.predict(np.expand_dims(x_validation[10],0))\n",
    "mit round drumherum geht es auf 1 bzw 0\n",
    "## modell validieren:\n"
   ],
   "metadata": {
    "collapsed": false
   }
  },
  {
   "cell_type": "code",
   "execution_count": null,
   "outputs": [],
   "source": [],
   "metadata": {
    "collapsed": false
   }
  }
 ],
 "metadata": {
  "kernelspec": {
   "display_name": "Python 3",
   "language": "python",
   "name": "python3"
  },
  "language_info": {
   "codemirror_mode": {
    "name": "ipython",
    "version": 2
   },
   "file_extension": ".py",
   "mimetype": "text/x-python",
   "name": "python",
   "nbconvert_exporter": "python",
   "pygments_lexer": "ipython2",
   "version": "2.7.6"
  }
 },
 "nbformat": 4,
 "nbformat_minor": 0
}
