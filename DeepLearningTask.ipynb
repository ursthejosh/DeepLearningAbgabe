{
 "cells": [
  {
   "cell_type": "markdown",
   "source": [
    "# In this Notebook, my implementation of the recommending algorithm will be running\n",
    "I am born in november, so the main focus will be on Data Analysis the second one on explainability and performance will be more or less irrelevant.\n",
    "\n",
    "\n",
    "\n",
    "### In the first Cell we can find all necessary imports\n"
   ],
   "metadata": {
    "collapsed": false
   }
  },
  {
   "cell_type": "code",
   "execution_count": 1,
   "outputs": [
    {
     "name": "stdout",
     "output_type": "stream",
     "text": [
      "imports done!\n"
     ]
    }
   ],
   "source": [
    "import pandas as pd\n",
    "import numpy as np\n",
    "from zipfile import ZipFile\n",
    "import tensorflow as tf\n",
    "from tensorflow import keras\n",
    "from pathlib import Path\n",
    "import matplotlib.pyplot as plt\n",
    "import seaborn as sn\n",
    "print('imports done!')"
   ],
   "metadata": {
    "collapsed": false
   }
  },
  {
   "cell_type": "markdown",
   "source": [
    "### Now we can easily download the Dataset from the grouplens-Website\n",
    "\n",
    "Before we extract the file, we check if the directory already exists, if so we do not extract the file"
   ],
   "metadata": {
    "collapsed": false
   }
  },
  {
   "cell_type": "code",
   "execution_count": 2,
   "outputs": [
    {
     "name": "stdout",
     "output_type": "stream",
     "text": [
      "C:\\Users\\hp\\.keras\\datasets\n"
     ]
    }
   ],
   "source": [
    "movielens_data_file_url = (\n",
    "    \"http://files.grouplens.org/datasets/movielens/ml-100k.zip\"\n",
    ")\n",
    "\n",
    "movielens_zipped_file = keras.utils.get_file(\n",
    "    \"ml-100k.zip\", movielens_data_file_url, extract=False\n",
    ")\n",
    "\n",
    "keras_datasets_path = Path(movielens_zipped_file).parents[0]\n",
    "movielens_dir = keras_datasets_path / \"ml-100k\"\n",
    "\n",
    "# Only extract the data the first time the script is run.\n",
    "if not movielens_dir.exists():\n",
    "    with ZipFile(movielens_zipped_file, \"r\") as zip:\n",
    "        # Extract files\n",
    "        print(\"Extracting all the files now...\")\n",
    "        zip.extractall(path=keras_datasets_path)\n",
    "        print(\"Done!\")\n",
    "print(keras_datasets_path)"
   ],
   "metadata": {
    "collapsed": false
   }
  },
  {
   "cell_type": "markdown",
   "source": [
    "Additionally we will need the United States Zip Codes for our geographical analysis.\n",
    "For this we need to download them at https://www.unitedstateszipcodes.org/zip-code-database/.\n",
    "They have to be later put into the keras dataset folder, this path is printed in the cell above.\n",
    "It is sufficient to use the Free version."
   ],
   "metadata": {
    "collapsed": false
   }
  },
  {
   "cell_type": "code",
   "execution_count": 3,
   "outputs": [
    {
     "data": {
      "text/plain": "zip_code     int64\nstate       object\ndtype: object"
     },
     "execution_count": 3,
     "metadata": {},
     "output_type": "execute_result"
    }
   ],
   "source": [
    "zip_code_cols = ['zip_code','type','decommissioned','primary_city','acceptable_cities','unacceptable_cities','state','county','timezone','area_codes','world_region','country','latitude','longitude','irs_estimated_population']\n",
    "zip_code_dir = keras_datasets_path / \"zip_code_database.csv\"\n",
    "zip_codes_df = pd.read_csv(zip_code_dir, sep = ',', names= zip_code_cols, encoding='latin-1')\n",
    "zip_codes_df.drop([0], inplace = True)\n",
    "zip_codes_df.drop(['type','decommissioned','primary_city','acceptable_cities','unacceptable_cities','county','timezone','area_codes','world_region','country','latitude','longitude','irs_estimated_population'], axis = 1, inplace = True)\n",
    "zip_codes_df['zip_code'] = zip_codes_df['zip_code'].astype('int64')\n",
    "zip_codes_df.head(20)\n",
    "zip_codes_df.dtypes"
   ],
   "metadata": {
    "collapsed": false
   }
  },
  {
   "cell_type": "markdown",
   "source": [
    "The user data is read by using the pandas.read_csv function and loaded into a dataframe, the columns of each type of information is linked with their Keywords."
   ],
   "metadata": {
    "collapsed": false
   }
  },
  {
   "cell_type": "code",
   "execution_count": 4,
   "outputs": [
    {
     "name": "stdout",
     "output_type": "stream",
     "text": [
      "users done, onto ratings now\n"
     ]
    }
   ],
   "source": [
    "user_cols = ['user_id', 'age', 'gender', 'occupation', 'zip_code']\n",
    "user_data = movielens_dir / \"u.user\"\n",
    "users = pd.read_csv(user_data, sep='|', names=user_cols,encoding='latin-1')\n",
    "\n",
    "print('users done, onto ratings now')"
   ],
   "metadata": {
    "collapsed": false
   }
  },
  {
   "cell_type": "markdown",
   "source": [
    "Same as the user data, the ratings data is read and loaded into a dataframe, but because we have here the information of the timestamp, which we will not need in further Investigation, it can be dropped, so we wont use more space than needed."
   ],
   "metadata": {
    "collapsed": false
   }
  },
  {
   "cell_type": "code",
   "execution_count": 5,
   "outputs": [
    {
     "name": "stdout",
     "output_type": "stream",
     "text": [
      "ratings done, onto movies now\n"
     ]
    }
   ],
   "source": [
    "ratings_cols = ['user_id', 'movie_id', 'rating', 'timestamp']\n",
    "ratings_data = movielens_dir / \"u.data\"\n",
    "ratings = pd.read_csv(ratings_data, sep='\\t', names=ratings_cols)\n",
    "#print(ratings.head())\n",
    "ratings.drop(['timestamp'], axis=1, inplace=True)\n",
    "#print(ratings.head())\n",
    "print('ratings done, onto movies now')"
   ],
   "metadata": {
    "collapsed": false
   }
  },
  {
   "cell_type": "markdown",
   "source": [
    "The movie data is also loaded into a dataframe and the attributes \"IMDb_URL\" and \"video_release_date\" get dropped. \"IMDb_URL\" because we have no need for this information and \"video_release_date\" because it is mostly not used.\n",
    "\n",
    "The attribute \"release_date\" however has most times just the first of january as its date, so it can (and should for validity reasons) be stripped down to just the year. (See following lines 5 & 6)\n",
    "\n",
    "To Save disc space, we also change the datatype for the genres, which are already meant as a Boolean, from int64 to boolean."
   ],
   "metadata": {
    "collapsed": false
   }
  },
  {
   "cell_type": "code",
   "execution_count": 6,
   "outputs": [
    {
     "name": "stdout",
     "output_type": "stream",
     "text": [
      "all done and merged\n"
     ]
    }
   ],
   "source": [
    "movie_cols = ['movie_id','movie_title','release_date','video_release_date','IMDb_URL','unknown','Action','Adventure','Animation','Children','Comedy','Crime','Documentary','Drama','Fantasy','Film_Noir','Horror','Musical','Mystery','Romance','Sci_Fi','Thriller','War','Western']\n",
    "movie_data = movielens_dir / \"u.item\"\n",
    "movies = pd.read_csv(movie_data, sep='|', names=movie_cols, encoding='latin-1')\n",
    "movies.drop(['IMDb_URL','video_release_date'], axis=1, inplace=True)\n",
    "movies['release_date'] = pd.to_datetime(movies['release_date'])\n",
    "movies['release_date'] = movies['release_date'].dt.year\n",
    "movies.iloc[:, 3:] = movies.iloc[:, 3:].astype(bool)\n",
    "#movies.sort_values(by='release_date', inplace=True)\n",
    "#print(movies.head(10))\n",
    "movie_ratings = pd.merge(movies, ratings)\n",
    "df_all = pd.merge(movie_ratings, users)\n",
    "print('all done and merged')\n",
    "#print(df_all.dtypes)"
   ],
   "metadata": {
    "collapsed": false
   }
  },
  {
   "cell_type": "markdown",
   "source": [
    "## Data Analysis on Zip Codes:"
   ],
   "metadata": {
    "collapsed": false
   }
  },
  {
   "cell_type": "code",
   "execution_count": 7,
   "outputs": [
    {
     "name": "stdout",
     "output_type": "stream",
     "text": [
      "Number of distinct Zipcodes: 795\n",
      "  zip_code  No_Users\n",
      "0    55414         9\n",
      "1    55105         6\n",
      "2    55337         5\n",
      "3    10003         5\n",
      "4    20009         5\n",
      "zip_code    object\n",
      "No_Users     int64\n",
      "dtype: object\n"
     ]
    },
    {
     "ename": "TypeError",
     "evalue": "'<' not supported between instances of 'str' and 'int'",
     "output_type": "error",
     "traceback": [
      "\u001B[1;31m---------------------------------------------------------------------------\u001B[0m",
      "\u001B[1;31mTypeError\u001B[0m                                 Traceback (most recent call last)",
      "Cell \u001B[1;32mIn [7], line 12\u001B[0m\n\u001B[0;32m      8\u001B[0m \u001B[38;5;66;03m#print(ml_distinct_zip_codes.head())\u001B[39;00m\n\u001B[0;32m      9\u001B[0m \u001B[38;5;66;03m#users_zip_codes['state'] = zip_codes_df.loc[zip_codes_df['zip_code'] == current_zip, 'state'] for current_zip in (0,len(users_zip_codes))\u001B[39;00m\n\u001B[0;32m     10\u001B[0m \u001B[38;5;28mprint\u001B[39m(users_zip_codes\u001B[38;5;241m.\u001B[39mdtypes)\n\u001B[1;32m---> 12\u001B[0m \u001B[43musers_zip_codes\u001B[49m\u001B[38;5;241;43m.\u001B[39;49m\u001B[43msum\u001B[49m\u001B[43m(\u001B[49m\u001B[43m)\u001B[49m\u001B[38;5;241;43m.\u001B[39;49m\u001B[43mplot\u001B[49m\u001B[43m(\u001B[49m\u001B[43mkind\u001B[49m\u001B[38;5;241;43m=\u001B[39;49m\u001B[38;5;124;43m'\u001B[39;49m\u001B[38;5;124;43mpie\u001B[39;49m\u001B[38;5;124;43m'\u001B[39;49m\u001B[43m,\u001B[49m\u001B[43m \u001B[49m\u001B[43my\u001B[49m\u001B[43m \u001B[49m\u001B[38;5;241;43m=\u001B[39;49m\u001B[43musers_zip_codes\u001B[49m\u001B[43m[\u001B[49m\u001B[38;5;124;43m'\u001B[39;49m\u001B[38;5;124;43mNo_Users\u001B[39;49m\u001B[38;5;124;43m'\u001B[39;49m\u001B[43m]\u001B[49m\u001B[43m,\u001B[49m\u001B[43mautopct\u001B[49m\u001B[38;5;241;43m=\u001B[39;49m\u001B[38;5;124;43m'\u001B[39;49m\u001B[38;5;132;43;01m%1.0f\u001B[39;49;00m\u001B[38;5;132;43;01m%%\u001B[39;49;00m\u001B[38;5;124;43m'\u001B[39;49m\u001B[43m,\u001B[49m\u001B[43mtitle\u001B[49m\u001B[38;5;241;43m=\u001B[39;49m\u001B[38;5;124;43m'\u001B[39;49m\u001B[38;5;124;43mDistribution of Zip Codes by States\u001B[39;49m\u001B[38;5;124;43m'\u001B[39;49m\u001B[43m)\u001B[49m\n",
      "File \u001B[1;32m~\\AppData\\Local\\Programs\\Python\\Python39\\lib\\site-packages\\pandas\\plotting\\_core.py:1000\u001B[0m, in \u001B[0;36mPlotAccessor.__call__\u001B[1;34m(self, *args, **kwargs)\u001B[0m\n\u001B[0;32m    997\u001B[0m             label_name \u001B[38;5;241m=\u001B[39m label_kw \u001B[38;5;129;01mor\u001B[39;00m data\u001B[38;5;241m.\u001B[39mcolumns\n\u001B[0;32m    998\u001B[0m             data\u001B[38;5;241m.\u001B[39mcolumns \u001B[38;5;241m=\u001B[39m label_name\n\u001B[1;32m-> 1000\u001B[0m \u001B[38;5;28;01mreturn\u001B[39;00m plot_backend\u001B[38;5;241m.\u001B[39mplot(data, kind\u001B[38;5;241m=\u001B[39mkind, \u001B[38;5;241m*\u001B[39m\u001B[38;5;241m*\u001B[39mkwargs)\n",
      "File \u001B[1;32m~\\AppData\\Local\\Programs\\Python\\Python39\\lib\\site-packages\\pandas\\plotting\\_matplotlib\\__init__.py:70\u001B[0m, in \u001B[0;36mplot\u001B[1;34m(data, kind, **kwargs)\u001B[0m\n\u001B[0;32m     68\u001B[0m             ax \u001B[38;5;241m=\u001B[39m plt\u001B[38;5;241m.\u001B[39mgca()\n\u001B[0;32m     69\u001B[0m         kwargs[\u001B[38;5;124m\"\u001B[39m\u001B[38;5;124max\u001B[39m\u001B[38;5;124m\"\u001B[39m] \u001B[38;5;241m=\u001B[39m \u001B[38;5;28mgetattr\u001B[39m(ax, \u001B[38;5;124m\"\u001B[39m\u001B[38;5;124mleft_ax\u001B[39m\u001B[38;5;124m\"\u001B[39m, ax)\n\u001B[1;32m---> 70\u001B[0m plot_obj \u001B[38;5;241m=\u001B[39m PLOT_CLASSES[kind](data, \u001B[38;5;241m*\u001B[39m\u001B[38;5;241m*\u001B[39mkwargs)\n\u001B[0;32m     71\u001B[0m plot_obj\u001B[38;5;241m.\u001B[39mgenerate()\n\u001B[0;32m     72\u001B[0m plot_obj\u001B[38;5;241m.\u001B[39mdraw()\n",
      "File \u001B[1;32m~\\AppData\\Local\\Programs\\Python\\Python39\\lib\\site-packages\\pandas\\plotting\\_matplotlib\\core.py:1801\u001B[0m, in \u001B[0;36mPiePlot.__init__\u001B[1;34m(self, data, kind, **kwargs)\u001B[0m\n\u001B[0;32m   1799\u001B[0m \u001B[38;5;28;01mdef\u001B[39;00m \u001B[38;5;21m__init__\u001B[39m(\u001B[38;5;28mself\u001B[39m, data, kind\u001B[38;5;241m=\u001B[39m\u001B[38;5;28;01mNone\u001B[39;00m, \u001B[38;5;241m*\u001B[39m\u001B[38;5;241m*\u001B[39mkwargs) \u001B[38;5;241m-\u001B[39m\u001B[38;5;241m>\u001B[39m \u001B[38;5;28;01mNone\u001B[39;00m:\n\u001B[0;32m   1800\u001B[0m     data \u001B[38;5;241m=\u001B[39m data\u001B[38;5;241m.\u001B[39mfillna(value\u001B[38;5;241m=\u001B[39m\u001B[38;5;241m0\u001B[39m)\n\u001B[1;32m-> 1801\u001B[0m     \u001B[38;5;28;01mif\u001B[39;00m (\u001B[43mdata\u001B[49m\u001B[43m \u001B[49m\u001B[38;5;241;43m<\u001B[39;49m\u001B[43m \u001B[49m\u001B[38;5;241;43m0\u001B[39;49m)\u001B[38;5;241m.\u001B[39many()\u001B[38;5;241m.\u001B[39many():\n\u001B[0;32m   1802\u001B[0m         \u001B[38;5;28;01mraise\u001B[39;00m \u001B[38;5;167;01mValueError\u001B[39;00m(\u001B[38;5;124mf\u001B[39m\u001B[38;5;124m\"\u001B[39m\u001B[38;5;132;01m{\u001B[39;00m\u001B[38;5;28mself\u001B[39m\u001B[38;5;241m.\u001B[39m_kind\u001B[38;5;132;01m}\u001B[39;00m\u001B[38;5;124m plot doesn\u001B[39m\u001B[38;5;124m'\u001B[39m\u001B[38;5;124mt allow negative values\u001B[39m\u001B[38;5;124m\"\u001B[39m)\n\u001B[0;32m   1803\u001B[0m     MPLPlot\u001B[38;5;241m.\u001B[39m\u001B[38;5;21m__init__\u001B[39m(\u001B[38;5;28mself\u001B[39m, data, kind\u001B[38;5;241m=\u001B[39mkind, \u001B[38;5;241m*\u001B[39m\u001B[38;5;241m*\u001B[39mkwargs)\n",
      "File \u001B[1;32m~\\AppData\\Local\\Programs\\Python\\Python39\\lib\\site-packages\\pandas\\core\\ops\\common.py:72\u001B[0m, in \u001B[0;36m_unpack_zerodim_and_defer.<locals>.new_method\u001B[1;34m(self, other)\u001B[0m\n\u001B[0;32m     68\u001B[0m             \u001B[38;5;28;01mreturn\u001B[39;00m \u001B[38;5;28mNotImplemented\u001B[39m\n\u001B[0;32m     70\u001B[0m other \u001B[38;5;241m=\u001B[39m item_from_zerodim(other)\n\u001B[1;32m---> 72\u001B[0m \u001B[38;5;28;01mreturn\u001B[39;00m \u001B[43mmethod\u001B[49m\u001B[43m(\u001B[49m\u001B[38;5;28;43mself\u001B[39;49m\u001B[43m,\u001B[49m\u001B[43m \u001B[49m\u001B[43mother\u001B[49m\u001B[43m)\u001B[49m\n",
      "File \u001B[1;32m~\\AppData\\Local\\Programs\\Python\\Python39\\lib\\site-packages\\pandas\\core\\arraylike.py:50\u001B[0m, in \u001B[0;36mOpsMixin.__lt__\u001B[1;34m(self, other)\u001B[0m\n\u001B[0;32m     48\u001B[0m \u001B[38;5;129m@unpack_zerodim_and_defer\u001B[39m(\u001B[38;5;124m\"\u001B[39m\u001B[38;5;124m__lt__\u001B[39m\u001B[38;5;124m\"\u001B[39m)\n\u001B[0;32m     49\u001B[0m \u001B[38;5;28;01mdef\u001B[39;00m \u001B[38;5;21m__lt__\u001B[39m(\u001B[38;5;28mself\u001B[39m, other):\n\u001B[1;32m---> 50\u001B[0m     \u001B[38;5;28;01mreturn\u001B[39;00m \u001B[38;5;28;43mself\u001B[39;49m\u001B[38;5;241;43m.\u001B[39;49m\u001B[43m_cmp_method\u001B[49m\u001B[43m(\u001B[49m\u001B[43mother\u001B[49m\u001B[43m,\u001B[49m\u001B[43m \u001B[49m\u001B[43moperator\u001B[49m\u001B[38;5;241;43m.\u001B[39;49m\u001B[43mlt\u001B[49m\u001B[43m)\u001B[49m\n",
      "File \u001B[1;32m~\\AppData\\Local\\Programs\\Python\\Python39\\lib\\site-packages\\pandas\\core\\series.py:6243\u001B[0m, in \u001B[0;36mSeries._cmp_method\u001B[1;34m(self, other, op)\u001B[0m\n\u001B[0;32m   6240\u001B[0m rvalues \u001B[38;5;241m=\u001B[39m extract_array(other, extract_numpy\u001B[38;5;241m=\u001B[39m\u001B[38;5;28;01mTrue\u001B[39;00m, extract_range\u001B[38;5;241m=\u001B[39m\u001B[38;5;28;01mTrue\u001B[39;00m)\n\u001B[0;32m   6242\u001B[0m \u001B[38;5;28;01mwith\u001B[39;00m np\u001B[38;5;241m.\u001B[39merrstate(\u001B[38;5;28mall\u001B[39m\u001B[38;5;241m=\u001B[39m\u001B[38;5;124m\"\u001B[39m\u001B[38;5;124mignore\u001B[39m\u001B[38;5;124m\"\u001B[39m):\n\u001B[1;32m-> 6243\u001B[0m     res_values \u001B[38;5;241m=\u001B[39m \u001B[43mops\u001B[49m\u001B[38;5;241;43m.\u001B[39;49m\u001B[43mcomparison_op\u001B[49m\u001B[43m(\u001B[49m\u001B[43mlvalues\u001B[49m\u001B[43m,\u001B[49m\u001B[43m \u001B[49m\u001B[43mrvalues\u001B[49m\u001B[43m,\u001B[49m\u001B[43m \u001B[49m\u001B[43mop\u001B[49m\u001B[43m)\u001B[49m\n\u001B[0;32m   6245\u001B[0m \u001B[38;5;28;01mreturn\u001B[39;00m \u001B[38;5;28mself\u001B[39m\u001B[38;5;241m.\u001B[39m_construct_result(res_values, name\u001B[38;5;241m=\u001B[39mres_name)\n",
      "File \u001B[1;32m~\\AppData\\Local\\Programs\\Python\\Python39\\lib\\site-packages\\pandas\\core\\ops\\array_ops.py:287\u001B[0m, in \u001B[0;36mcomparison_op\u001B[1;34m(left, right, op)\u001B[0m\n\u001B[0;32m    284\u001B[0m     \u001B[38;5;28;01mreturn\u001B[39;00m invalid_comparison(lvalues, rvalues, op)\n\u001B[0;32m    286\u001B[0m \u001B[38;5;28;01melif\u001B[39;00m is_object_dtype(lvalues\u001B[38;5;241m.\u001B[39mdtype) \u001B[38;5;129;01mor\u001B[39;00m \u001B[38;5;28misinstance\u001B[39m(rvalues, \u001B[38;5;28mstr\u001B[39m):\n\u001B[1;32m--> 287\u001B[0m     res_values \u001B[38;5;241m=\u001B[39m \u001B[43mcomp_method_OBJECT_ARRAY\u001B[49m\u001B[43m(\u001B[49m\u001B[43mop\u001B[49m\u001B[43m,\u001B[49m\u001B[43m \u001B[49m\u001B[43mlvalues\u001B[49m\u001B[43m,\u001B[49m\u001B[43m \u001B[49m\u001B[43mrvalues\u001B[49m\u001B[43m)\u001B[49m\n\u001B[0;32m    289\u001B[0m \u001B[38;5;28;01melse\u001B[39;00m:\n\u001B[0;32m    290\u001B[0m     res_values \u001B[38;5;241m=\u001B[39m _na_arithmetic_op(lvalues, rvalues, op, is_cmp\u001B[38;5;241m=\u001B[39m\u001B[38;5;28;01mTrue\u001B[39;00m)\n",
      "File \u001B[1;32m~\\AppData\\Local\\Programs\\Python\\Python39\\lib\\site-packages\\pandas\\core\\ops\\array_ops.py:75\u001B[0m, in \u001B[0;36mcomp_method_OBJECT_ARRAY\u001B[1;34m(op, x, y)\u001B[0m\n\u001B[0;32m     73\u001B[0m     result \u001B[38;5;241m=\u001B[39m libops\u001B[38;5;241m.\u001B[39mvec_compare(x\u001B[38;5;241m.\u001B[39mravel(), y\u001B[38;5;241m.\u001B[39mravel(), op)\n\u001B[0;32m     74\u001B[0m \u001B[38;5;28;01melse\u001B[39;00m:\n\u001B[1;32m---> 75\u001B[0m     result \u001B[38;5;241m=\u001B[39m \u001B[43mlibops\u001B[49m\u001B[38;5;241;43m.\u001B[39;49m\u001B[43mscalar_compare\u001B[49m\u001B[43m(\u001B[49m\u001B[43mx\u001B[49m\u001B[38;5;241;43m.\u001B[39;49m\u001B[43mravel\u001B[49m\u001B[43m(\u001B[49m\u001B[43m)\u001B[49m\u001B[43m,\u001B[49m\u001B[43m \u001B[49m\u001B[43my\u001B[49m\u001B[43m,\u001B[49m\u001B[43m \u001B[49m\u001B[43mop\u001B[49m\u001B[43m)\u001B[49m\n\u001B[0;32m     76\u001B[0m \u001B[38;5;28;01mreturn\u001B[39;00m result\u001B[38;5;241m.\u001B[39mreshape(x\u001B[38;5;241m.\u001B[39mshape)\n",
      "File \u001B[1;32m~\\AppData\\Local\\Programs\\Python\\Python39\\lib\\site-packages\\pandas\\_libs\\ops.pyx:107\u001B[0m, in \u001B[0;36mpandas._libs.ops.scalar_compare\u001B[1;34m()\u001B[0m\n",
      "\u001B[1;31mTypeError\u001B[0m: '<' not supported between instances of 'str' and 'int'"
     ]
    }
   ],
   "source": [
    "print('Number of distinct Zipcodes:', df_all.zip_code.nunique())\n",
    "users_zip_codes = users['zip_code'].value_counts().to_frame()\n",
    "users_zip_codes.reset_index(inplace = True)\n",
    "users_zip_codes.rename(columns = {'zip_code':'No_Users'}, inplace = True)\n",
    "users_zip_codes.rename(columns = {'index':'zip_code'}, inplace = True)\n",
    "print(users_zip_codes.head())\n",
    "ratings_zip_codes = df_all['zip_code'].value_counts()\n",
    "#print(ml_distinct_zip_codes.head())\n",
    "#users_zip_codes['state'] = zip_codes_df.loc[zip_codes_df['zip_code'] == current_zip, 'state'] for current_zip in (0,len(users_zip_codes))\n",
    "print(users_zip_codes.dtypes)\n",
    "\n",
    "users_zip_codes.sum().plot(kind='pie', y =users_zip_codes['No_Users'],autopct='%1.0f%%',title='Distribution of Zip Codes by States')\n",
    "#users_zip_codes.plot.bar()\n",
    "#ml_zip_codes = [df_all['zip_code'] for iterable in (0,len(df_all)) if df_all.at(iterable,'zip_code').dtype == 'int64']\n",
    "#print(ml_counted_zip_codes)"
   ],
   "metadata": {
    "collapsed": false
   }
  },
  {
   "cell_type": "markdown",
   "source": [
    "Data Analysis on genres:"
   ],
   "metadata": {
    "collapsed": false
   }
  },
  {
   "cell_type": "code",
   "execution_count": 14,
   "outputs": [
    {
     "name": "stdout",
     "output_type": "stream",
     "text": [
      "   0    1    2   3    4    5    6   7    8   9   10  11  12  13   14   15  \\\n",
      "0   2  251  135  42  122  505  109  50  725  22  24  92  56  61  247  101   \n",
      "\n",
      "    16  17  18  \n",
      "0  251  71  27  \n"
     ]
    },
    {
     "data": {
      "text/plain": "<AxesSubplot: ylabel='0'>"
     },
     "execution_count": 14,
     "metadata": {},
     "output_type": "execute_result"
    },
    {
     "data": {
      "text/plain": "<Figure size 640x480 with 1 Axes>",
      "image/png": "[encoded data removed]"
     },
     "metadata": {},
     "output_type": "display_data"
    }
   ],
   "source": [
    "genre_cols = movie_cols[5:]\n",
    "genre_series = [movies[genre] for genre in genre_cols]\n",
    "#print(genre_series)\n",
    "genre_sums = [series.sum() for series in genre_series]\n",
    "#print(genre_sums)\n",
    "genre_df = pd.DataFrame(genre_sums).transpose()\n",
    "genre_df.set_axis(genre_cols, axis='columns', copy=False)\n",
    "print(genre_df)\n",
    "row = genre_df.iloc[0]\n",
    "row.plot(kind='bar', )"
   ],
   "metadata": {
    "collapsed": false
   }
  },
  {
   "cell_type": "code",
   "execution_count": null,
   "outputs": [],
   "source": [
    "df_all.sort_values(by='movie_id', inplace=True)\n",
    "print(df_all.head())"
   ],
   "metadata": {
    "collapsed": false
   }
  },
  {
   "cell_type": "code",
   "execution_count": null,
   "outputs": [],
   "source": [
    "df_all.describe()"
   ],
   "metadata": {
    "collapsed": false
   }
  },
  {
   "cell_type": "code",
   "execution_count": null,
   "outputs": [],
   "source": [
    "# The 30 most rated movies\n",
    "most_rated = df_all.groupby(by = 'movie_title').size().sort_values(ascending=False)[:30]\n",
    "#lens.movie_title.value_counts()[:30]\n",
    "\n",
    "movie_stats = df_all.groupby('movie_title').agg({'rating': [np.size, np.mean]}).sort_values([('rating', 'mean')], ascending=False)\n",
    "\n",
    "rate_atleast_200 = movie_stats['rating']['size'] >= 200\n",
    "movie_stats[rate_atleast_200].sort_values([('rating', 'mean')],ascending=False)\n",
    "\n",
    "most_50 = df_all.groupby('movie_title').size().sort_values(ascending=False)[:50]\n",
    "\n",
    "plt.figure()\n",
    "sn.histplot(users['age'],bins = 30)\n",
    "plt.title(\"Distribution of users' ages\")\n",
    "plt.ylabel('count of users')\n",
    "plt.xlabel('age')\n",
    "\n",
    "plt.hist(users['age'],bins=30)\n",
    "plt.title(\"Distribution of users' ages\")\n",
    "plt.ylabel('count of users')\n",
    "plt.xlabel('age')\n",
    "\n",
    "labels = ['0-9', '10-19', '20-29', '30-39', '40-49', '50-59', '60-69', '70-79']\n",
    "df_all['age_group'] = pd.cut(df_all.age, range(0, 81, 10), right=False, labels=labels)\n",
    "df_all.groupby('age_group').agg({'rating': [np.size, np.mean]})\n",
    "df_all.set_index('movie_title', inplace=True)\n",
    "\n",
    "by_age = df_all.loc[most_50.index].groupby(['movie_title', 'age_group'])\n",
    "by_age = by_age.rating.mean().unstack(1).fillna(0)\n",
    "\n",
    "df_all.reset_index(inplace=True)\n",
    "df_all.set_index('movie_title', inplace=True)\n",
    "\n",
    "pivoted = df_all.pivot_table(index=['movie_title'],\n",
    "                           columns=['gender'],\n",
    "                           values='rating',\n",
    "                           fill_value=0)"
   ],
   "metadata": {
    "collapsed": false
   }
  },
  {
   "cell_type": "code",
   "execution_count": null,
   "outputs": [],
   "source": [],
   "metadata": {
    "collapsed": false
   }
  },
  {
   "cell_type": "markdown",
   "source": [
    "# First steps in deep learning\n",
    "\n",
    "## Daten laden:\n",
    "## Normieren:\n",
    "## Modell erstellen: bzw Netz erstellen\n",
    "Mit einem pretrained Model starten und darauf aufbauen und das neural network erweitern\n",
    "### Flatten Layer:\n",
    "nimmt Matrizen und erstellt daraus einen eindimensionalen Vektor mit den \"Zeilen\" hintereinander\n",
    "### Dense Layer:\n",
    "fully connected Layer, macht aus x Eingaben y Ausgabeparameter, ist zwar langsam aber dafür sehr präzise\n",
    "### Output-Layer:\n",
    "10 Möglichkeiten, je nach gewichtung wird ein Ausgang beim MNIST gewählt.\n",
    "Für Movielens den Sigmoid ans Ende packen.\n",
    "## Modell kompilieren:\n",
    "Tensorflow-Ding\n",
    "definiert optimizer (wie macht mans besser), Loss (Loss-Funktion) und Metrik (Was wird als gut bewertet)\n",
    "## modell trainieren:\n",
    "model.fit\n",
    "\n",
    "## Modell predicten\n",
    "kann man auch bezüglich der Fehler prüfen, z.B.: warum wurde das nicht erkannt?\n",
    "model.predict(np.expand_dims(x_validation[10],0))\n",
    "mit round drumherum geht es auf 1 bzw 0\n",
    "## modell validieren:\n"
   ],
   "metadata": {
    "collapsed": false
   }
  },
  {
   "cell_type": "markdown",
   "source": [
    "anregungen vom 8.12.:\n",
    "\n",
    "nicht bloaten,\n",
    "data analysis; was genau haben wir da und auch nach split beachten, welche params wichtig sind und welche nicht\n",
    "beachten und nichtbeachten von verteilungen und geografischen Angaben.\n",
    "\n",
    "Gib mir deinen US-Staat und ich sag dir welchen Film du magst\n",
    "oder gib mir einen Film und ich sag dir welchen Film du magst\n",
    "oder"
   ],
   "metadata": {
    "collapsed": false
   }
  }
 ],
 "metadata": {
  "kernelspec": {
   "display_name": "Python 3",
   "language": "python",
   "name": "python3"
  },
  "language_info": {
   "codemirror_mode": {
    "name": "ipython",
    "version": 2
   },
   "file_extension": ".py",
   "mimetype": "text/x-python",
   "name": "python",
   "nbconvert_exporter": "python",
   "pygments_lexer": "ipython2",
   "version": "2.7.6"
  }
 },
 "nbformat": 4,
 "nbformat_minor": 0
}
