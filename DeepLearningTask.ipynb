{
 "cells": [
  {
   "cell_type": "markdown",
   "source": [
    "# In this Notebook, my implementation of the recommending algorithm will be running\n",
    "I am born in november, so the main focus will be on Data Analysis the second one on explainability and performance will be more or less irrelevant.\n",
    "\n",
    "\n",
    "\n",
    "### In the first Cell we can find all necessary imports\n"
   ],
   "metadata": {
    "collapsed": false
   }
  },
  {
   "cell_type": "code",
   "execution_count": 21,
   "outputs": [
    {
     "name": "stdout",
     "output_type": "stream",
     "text": [
      "imports done!\n"
     ]
    }
   ],
   "source": [
    "import pandas as pd\n",
    "import numpy as np\n",
    "from zipfile import ZipFile\n",
    "import tensorflow as tf\n",
    "from tensorflow import keras\n",
    "from pathlib import Path\n",
    "import matplotlib.pyplot as plt\n",
    "import seaborn as sn\n",
    "print('imports done!')"
   ],
   "metadata": {
    "collapsed": false
   }
  },
  {
   "cell_type": "markdown",
   "source": [
    "### Now we can easily download the Dataset from the grouplens-Website\n",
    "\n",
    "Before we extract the file, we check if the directory already exists, if so we do not extract the file"
   ],
   "metadata": {
    "collapsed": false
   }
  },
  {
   "cell_type": "code",
   "execution_count": 13,
   "outputs": [
    {
     "name": "stdout",
     "output_type": "stream",
     "text": [
      "C:\\Users\\hp\\.keras\\datasets\n"
     ]
    }
   ],
   "source": [
    "movielens_data_file_url = (\n",
    "    \"http://files.grouplens.org/datasets/movielens/ml-100k.zip\"\n",
    ")\n",
    "\n",
    "movielens_zipped_file = keras.utils.get_file(\n",
    "    \"ml-100k.zip\", movielens_data_file_url, extract=False\n",
    ")\n",
    "\n",
    "keras_datasets_path = Path(movielens_zipped_file).parents[0]\n",
    "movielens_dir = keras_datasets_path / \"ml-100k\"\n",
    "\n",
    "# Only extract the data the first time the script is run.\n",
    "if not movielens_dir.exists():\n",
    "    with ZipFile(movielens_zipped_file, \"r\") as zip:\n",
    "        # Extract files\n",
    "        print(\"Extracting all the files now...\")\n",
    "        zip.extractall(path=keras_datasets_path)\n",
    "        print(\"Done!\")\n",
    "print(keras_datasets_path)"
   ],
   "metadata": {
    "collapsed": false
   }
  },
  {
   "cell_type": "markdown",
   "source": [
    "Additionally we will need the United States Zip Codes. For this we need to download them at https://www.unitedstateszipcodes.org/zip-code-database/. They have to be later put into the keras dataset folder, this path is printed in the cell above. It is sufficient to use the Free version. We also need to read the data using pandas and dropping all \"not vital\" data. Which will be most, because we will only need the Zip-Code and the State."
   ],
   "metadata": {
    "collapsed": false
   }
  },
  {
   "cell_type": "code",
   "execution_count": 24,
   "outputs": [
    {
     "data": {
      "text/plain": "      zip state\n1   00501    NY\n2   00544    NY\n3   00601    PR\n4   00602    PR\n5   00603    PR\n6   00604    PR\n7   00605    PR\n8   00606    PR\n9   00610    PR\n10  00611    PR\n11  00612    PR\n12  00613    PR\n13  00614    PR\n14  00616    PR\n15  00617    PR\n16  00622    PR\n17  00623    PR\n18  00624    PR\n19  00627    PR\n20  00631    PR",
      "text/html": "<div>\n<style scoped>\n    .dataframe tbody tr th:only-of-type {\n        vertical-align: middle;\n    }\n\n    .dataframe tbody tr th {\n        vertical-align: top;\n    }\n\n    .dataframe thead th {\n        text-align: right;\n    }\n</style>\n<table border=\"1\" class=\"dataframe\">\n  <thead>\n    <tr style=\"text-align: right;\">\n      <th></th>\n      <th>zip</th>\n      <th>state</th>\n    </tr>\n  </thead>\n  <tbody>\n    <tr>\n      <th>1</th>\n      <td>00501</td>\n      <td>NY</td>\n    </tr>\n    <tr>\n      <th>2</th>\n      <td>00544</td>\n      <td>NY</td>\n    </tr>\n    <tr>\n      <th>3</th>\n      <td>00601</td>\n      <td>PR</td>\n    </tr>\n    <tr>\n      <th>4</th>\n      <td>00602</td>\n      <td>PR</td>\n    </tr>\n    <tr>\n      <th>5</th>\n      <td>00603</td>\n      <td>PR</td>\n    </tr>\n    <tr>\n      <th>6</th>\n      <td>00604</td>\n      <td>PR</td>\n    </tr>\n    <tr>\n      <th>7</th>\n      <td>00605</td>\n      <td>PR</td>\n    </tr>\n    <tr>\n      <th>8</th>\n      <td>00606</td>\n      <td>PR</td>\n    </tr>\n    <tr>\n      <th>9</th>\n      <td>00610</td>\n      <td>PR</td>\n    </tr>\n    <tr>\n      <th>10</th>\n      <td>00611</td>\n      <td>PR</td>\n    </tr>\n    <tr>\n      <th>11</th>\n      <td>00612</td>\n      <td>PR</td>\n    </tr>\n    <tr>\n      <th>12</th>\n      <td>00613</td>\n      <td>PR</td>\n    </tr>\n    <tr>\n      <th>13</th>\n      <td>00614</td>\n      <td>PR</td>\n    </tr>\n    <tr>\n      <th>14</th>\n      <td>00616</td>\n      <td>PR</td>\n    </tr>\n    <tr>\n      <th>15</th>\n      <td>00617</td>\n      <td>PR</td>\n    </tr>\n    <tr>\n      <th>16</th>\n      <td>00622</td>\n      <td>PR</td>\n    </tr>\n    <tr>\n      <th>17</th>\n      <td>00623</td>\n      <td>PR</td>\n    </tr>\n    <tr>\n      <th>18</th>\n      <td>00624</td>\n      <td>PR</td>\n    </tr>\n    <tr>\n      <th>19</th>\n      <td>00627</td>\n      <td>PR</td>\n    </tr>\n    <tr>\n      <th>20</th>\n      <td>00631</td>\n      <td>PR</td>\n    </tr>\n  </tbody>\n</table>\n</div>"
     },
     "execution_count": 24,
     "metadata": {},
     "output_type": "execute_result"
    }
   ],
   "source": [
    "zip_code_cols = ['zip','type','decommissioned','primary_city','acceptable_cities','unacceptable_cities','state','county','timezone','area_codes','world_region','country','latitude','longitude','irs_estimated_population']\n",
    "zip_code_dir = keras_datasets_path / \"zip_code_database.csv\"\n",
    "zip_codes_df = pd.read_csv(zip_code_dir, sep = ',', names= zip_code_cols, encoding='latin-1')\n",
    "zip_codes_df.drop([0], inplace = True)\n",
    "zip_codes_df.drop(['type','decommissioned','primary_city','acceptable_cities','unacceptable_cities','county','timezone','area_codes','world_region','country','latitude','longitude','irs_estimated_population'], axis = 1, inplace = True)\n",
    "zip_codes_df.head(20)\n",
    "#print(len(zip_codes_df))"
   ],
   "metadata": {
    "collapsed": false
   }
  },
  {
   "cell_type": "markdown",
   "source": [
    "The user data is read by using the pandas.read_csv function and loaded into a dataframe, the columns of each type of information is linked with their Keywords."
   ],
   "metadata": {
    "collapsed": false
   }
  },
  {
   "cell_type": "code",
   "execution_count": 4,
   "outputs": [
    {
     "name": "stdout",
     "output_type": "stream",
     "text": [
      "users done, onto ratings now\n"
     ]
    }
   ],
   "source": [
    "user_cols = ['user_id', 'age', 'gender', 'occupation', 'zip_code']\n",
    "user_data = movielens_dir / \"u.user\"\n",
    "users = pd.read_csv(user_data, sep='|', names=user_cols,encoding='latin-1')\n",
    "print('users done, onto ratings now')"
   ],
   "metadata": {
    "collapsed": false
   }
  },
  {
   "cell_type": "markdown",
   "source": [
    "Same as the user data, the ratings data is read and loaded into a dataframe, but because we have here the information of the timestamp, which we will not need in further Investigation, it can be dropped, so we wont use more space than needed.\n",
    "\n",
    "By executing this cell, the original head of the dataframe is printed and after the drop again, so we can see that the information is actually deleted."
   ],
   "metadata": {
    "collapsed": false
   }
  },
  {
   "cell_type": "code",
   "execution_count": 5,
   "outputs": [
    {
     "name": "stdout",
     "output_type": "stream",
     "text": [
      "   user_id  movie_id  rating  timestamp\n",
      "0      196       242       3  881250949\n",
      "1      186       302       3  891717742\n",
      "2       22       377       1  878887116\n",
      "3      244        51       2  880606923\n",
      "4      166       346       1  886397596\n",
      "   user_id  movie_id  rating\n",
      "0      196       242       3\n",
      "1      186       302       3\n",
      "2       22       377       1\n",
      "3      244        51       2\n",
      "4      166       346       1\n",
      "ratings done, onto movies now\n"
     ]
    }
   ],
   "source": [
    "ratings_cols = ['user_id', 'movie_id', 'rating', 'timestamp']\n",
    "ratings_data = movielens_dir / \"u.data\"\n",
    "ratings = pd.read_csv(ratings_data, sep='\\t', names=ratings_cols)\n",
    "print(ratings.head())\n",
    "ratings.drop(['timestamp'], axis=1, inplace=True)\n",
    "print(ratings.head())\n",
    "print('ratings done, onto movies now')"
   ],
   "metadata": {
    "collapsed": false
   }
  },
  {
   "cell_type": "markdown",
   "source": [
    "The movie data is also loaded into a dataframe and the attributes \"IMDb_URL\" and \"video_release_date\" get dropped. \"IMDb_URL\" because we have no need for this information and \"video_release_date\" because it is mostly not used.\n",
    "\n",
    "The attribute \"release_date\" however has most times just the first of january as its date, so it can (and should for validity reasons) be stripped down to just the year. (See lines 7 & 8)\n",
    "\n",
    "To Save disc space, we also change the datatype for the genres, which are already meant as a Boolean, from int64 to boolean."
   ],
   "metadata": {
    "collapsed": false
   }
  },
  {
   "cell_type": "code",
   "execution_count": 38,
   "outputs": [
    {
     "ename": "ValueError",
     "evalue": "The truth value of a Series is ambiguous. Use a.empty, a.bool(), a.item(), a.any() or a.all().",
     "output_type": "error",
     "traceback": [
      "\u001B[1;31m---------------------------------------------------------------------------\u001B[0m",
      "\u001B[1;31mValueError\u001B[0m                                Traceback (most recent call last)",
      "Cell \u001B[1;32mIn [38], line 12\u001B[0m\n\u001B[0;32m     10\u001B[0m movies[\u001B[38;5;124m'\u001B[39m\u001B[38;5;124mrelease_date\u001B[39m\u001B[38;5;124m'\u001B[39m] \u001B[38;5;241m=\u001B[39m movies[\u001B[38;5;124m'\u001B[39m\u001B[38;5;124mrelease_date\u001B[39m\u001B[38;5;124m'\u001B[39m]\u001B[38;5;241m.\u001B[39mastype(\u001B[38;5;124m'\u001B[39m\u001B[38;5;124mint64\u001B[39m\u001B[38;5;124m'\u001B[39m,errors\u001B[38;5;241m=\u001B[39m\u001B[38;5;124m'\u001B[39m\u001B[38;5;124mignore\u001B[39m\u001B[38;5;124m'\u001B[39m)\n\u001B[0;32m     11\u001B[0m is_non_numeric \u001B[38;5;241m=\u001B[39m pd\u001B[38;5;241m.\u001B[39mto_numeric(movies[\u001B[38;5;124m'\u001B[39m\u001B[38;5;124mrelease_date\u001B[39m\u001B[38;5;124m'\u001B[39m], errors\u001B[38;5;241m=\u001B[39m\u001B[38;5;124m'\u001B[39m\u001B[38;5;124mcoerce\u001B[39m\u001B[38;5;124m'\u001B[39m)\u001B[38;5;241m.\u001B[39misnull()\n\u001B[1;32m---> 12\u001B[0m \u001B[38;5;28;01mif\u001B[39;00m \u001B[43mis_non_numeric\u001B[49m\u001B[43m \u001B[49m\u001B[38;5;241;43m==\u001B[39;49m\u001B[43m \u001B[49m\u001B[38;5;28;43;01mTrue\u001B[39;49;00m:\n\u001B[0;32m     13\u001B[0m     \u001B[38;5;28mprint\u001B[39m(is_non_numeric)\n\u001B[0;32m     14\u001B[0m movies\u001B[38;5;241m.\u001B[39miloc[:, \u001B[38;5;241m3\u001B[39m:] \u001B[38;5;241m=\u001B[39m movies\u001B[38;5;241m.\u001B[39miloc[:, \u001B[38;5;241m3\u001B[39m:]\u001B[38;5;241m.\u001B[39mastype(\u001B[38;5;28mbool\u001B[39m)\n",
      "File \u001B[1;32m~\\AppData\\Local\\Programs\\Python\\Python39\\lib\\site-packages\\pandas\\core\\generic.py:1527\u001B[0m, in \u001B[0;36mNDFrame.__nonzero__\u001B[1;34m(self)\u001B[0m\n\u001B[0;32m   1525\u001B[0m \u001B[38;5;129m@final\u001B[39m\n\u001B[0;32m   1526\u001B[0m \u001B[38;5;28;01mdef\u001B[39;00m \u001B[38;5;21m__nonzero__\u001B[39m(\u001B[38;5;28mself\u001B[39m) \u001B[38;5;241m-\u001B[39m\u001B[38;5;241m>\u001B[39m NoReturn:\n\u001B[1;32m-> 1527\u001B[0m     \u001B[38;5;28;01mraise\u001B[39;00m \u001B[38;5;167;01mValueError\u001B[39;00m(\n\u001B[0;32m   1528\u001B[0m         \u001B[38;5;124mf\u001B[39m\u001B[38;5;124m\"\u001B[39m\u001B[38;5;124mThe truth value of a \u001B[39m\u001B[38;5;132;01m{\u001B[39;00m\u001B[38;5;28mtype\u001B[39m(\u001B[38;5;28mself\u001B[39m)\u001B[38;5;241m.\u001B[39m\u001B[38;5;18m__name__\u001B[39m\u001B[38;5;132;01m}\u001B[39;00m\u001B[38;5;124m is ambiguous. \u001B[39m\u001B[38;5;124m\"\u001B[39m\n\u001B[0;32m   1529\u001B[0m         \u001B[38;5;124m\"\u001B[39m\u001B[38;5;124mUse a.empty, a.bool(), a.item(), a.any() or a.all().\u001B[39m\u001B[38;5;124m\"\u001B[39m\n\u001B[0;32m   1530\u001B[0m     )\n",
      "\u001B[1;31mValueError\u001B[0m: The truth value of a Series is ambiguous. Use a.empty, a.bool(), a.item(), a.any() or a.all()."
     ]
    }
   ],
   "source": [
    "movie_cols = ['movie_id','movie_title','release_date','video_release_date','IMDb_URL','unknown',\\\n",
    "          'Action','Adventure','Animation','Children','Comedy','Crime','Documentary','Drama',\\\n",
    "          'Fantasy','Film_Noir','Horror','Musical','Mystery','Romance','Sci_Fi','Thriller','War','Western']\n",
    "movie_data = movielens_dir / \"u.item\"\n",
    "movies = pd.read_csv(movie_data, sep='|', names=movie_cols, encoding='latin-1')\n",
    "movies.drop(['IMDb_URL','video_release_date'], axis=1, inplace=True)\n",
    "movies['release_date'] = pd.to_datetime(movies['release_date'])\n",
    "movies['release_date'] = movies['release_date'].dt.year\n",
    "#pd.to_numeric(movies['release_date'], errors='ignore')\n",
    "movies['release_date'] = movies['release_date'].astype('int64',errors='ignore')\n",
    "is_non_numeric = pd.to_numeric(movies['release_date'], errors='coerce').isnull()\n",
    "\n",
    "movies.iloc[:, 'release_date':] = movies.iloc[:, 'release_date':].astype(bool)\n",
    "movies.sort_values(by='release_date', inplace=True)\n",
    "print(movies.head(10))\n",
    "movie_ratings = pd.merge(movies, ratings)\n",
    "df_all = pd.merge(movie_ratings, users)\n",
    "print('all done and merged')\n",
    "print(movies.dtypes)"
   ],
   "metadata": {
    "collapsed": false
   }
  },
  {
   "cell_type": "code",
   "execution_count": 11,
   "outputs": [
    {
     "name": "stdout",
     "output_type": "stream",
     "text": [
      "['15235' '15235' '15235' ... '22030' '22030' '22030']\n"
     ]
    }
   ],
   "source": [
    "zip_codes = df_all['zip_code'].to_numpy()\n",
    "print(zip_codes)"
   ],
   "metadata": {
    "collapsed": false
   }
  },
  {
   "cell_type": "code",
   "execution_count": 7,
   "outputs": [
    {
     "name": "stdout",
     "output_type": "stream",
     "text": [
      "       movie_id       movie_title  release_date  unknown  Action  Adventure  \\\n",
      "48210         1  Toy Story (1995)        1995.0        0       0          0   \n",
      "93388         1  Toy Story (1995)        1995.0        0       0          0   \n",
      "95779         1  Toy Story (1995)        1995.0        0       0          0   \n",
      "45022         1  Toy Story (1995)        1995.0        0       0          0   \n",
      "14160         1  Toy Story (1995)        1995.0        0       0          0   \n",
      "\n",
      "       Animation  Children  Comedy  Crime  ...  Sci_Fi  Thriller  War  \\\n",
      "48210          1         1       1      0  ...       0         0    0   \n",
      "93388          1         1       1      0  ...       0         0    0   \n",
      "95779          1         1       1      0  ...       0         0    0   \n",
      "45022          1         1       1      0  ...       0         0    0   \n",
      "14160          1         1       1      0  ...       0         0    0   \n",
      "\n",
      "       Western  user_id  rating  age  gender     occupation  zip_code  \n",
      "48210        0      314       5   20       F        student     08043  \n",
      "93388        0      438       4   51       F  administrator     43204  \n",
      "95779        0      636       3   47       M       educator     48043  \n",
      "45022        0      330       5   35       F       educator     33884  \n",
      "14160        0      138       4   46       M         doctor     53211  \n",
      "\n",
      "[5 rows x 28 columns]\n"
     ]
    }
   ],
   "source": [
    "df_all.sort_values(by='movie_id', inplace=True)\n",
    "print(df_all.head())"
   ],
   "metadata": {
    "collapsed": false
   }
  },
  {
   "cell_type": "code",
   "execution_count": 8,
   "outputs": [
    {
     "data": {
      "text/plain": "            movie_id  release_date      unknown         Action      Adventure  \\\ncount  100000.000000  99991.000000  100000.0000  100000.000000  100000.000000   \nmean      425.530130   1987.956216       0.0001       0.255890       0.137530   \nstd       330.798356     14.155523       0.0100       0.436362       0.344408   \nmin         1.000000   1922.000000       0.0000       0.000000       0.000000   \n25%       175.000000   1986.000000       0.0000       0.000000       0.000000   \n50%       322.000000   1994.000000       0.0000       0.000000       0.000000   \n75%       631.000000   1996.000000       0.0000       1.000000       0.000000   \nmax      1682.000000   1998.000000       1.0000       1.000000       1.000000   \n\n           Animation       Children         Comedy          Crime  \\\ncount  100000.000000  100000.000000  100000.000000  100000.000000   \nmean        0.036050       0.071820       0.298320       0.080550   \nstd         0.186416       0.258191       0.457523       0.272144   \nmin         0.000000       0.000000       0.000000       0.000000   \n25%         0.000000       0.000000       0.000000       0.000000   \n50%         0.000000       0.000000       0.000000       0.000000   \n75%         0.000000       0.000000       1.000000       0.000000   \nmax         1.000000       1.000000       1.000000       1.000000   \n\n         Documentary  ...        Musical        Mystery        Romance  \\\ncount  100000.000000  ...  100000.000000  100000.000000  100000.000000   \nmean        0.007580  ...       0.049540       0.052450       0.194610   \nstd         0.086733  ...       0.216994       0.222934       0.395902   \nmin         0.000000  ...       0.000000       0.000000       0.000000   \n25%         0.000000  ...       0.000000       0.000000       0.000000   \n50%         0.000000  ...       0.000000       0.000000       0.000000   \n75%         0.000000  ...       0.000000       0.000000       0.000000   \nmax         1.000000  ...       1.000000       1.000000       1.000000   \n\n             Sci_Fi      Thriller            War        Western       user_id  \\\ncount  100000.00000  100000.00000  100000.000000  100000.000000  100000.00000   \nmean        0.12730       0.21872       0.093980       0.018540     462.48475   \nstd         0.33331       0.41338       0.291802       0.134894     266.61442   \nmin         0.00000       0.00000       0.000000       0.000000       1.00000   \n25%         0.00000       0.00000       0.000000       0.000000     254.00000   \n50%         0.00000       0.00000       0.000000       0.000000     447.00000   \n75%         0.00000       0.00000       0.000000       0.000000     682.00000   \nmax         1.00000       1.00000       1.000000       1.000000     943.00000   \n\n              rating            age  \ncount  100000.000000  100000.000000  \nmean        3.529860      32.969850  \nstd         1.125674      11.562623  \nmin         1.000000       7.000000  \n25%         3.000000      24.000000  \n50%         4.000000      30.000000  \n75%         4.000000      40.000000  \nmax         5.000000      73.000000  \n\n[8 rows x 24 columns]",
      "text/html": "<div>\n<style scoped>\n    .dataframe tbody tr th:only-of-type {\n        vertical-align: middle;\n    }\n\n    .dataframe tbody tr th {\n        vertical-align: top;\n    }\n\n    .dataframe thead th {\n        text-align: right;\n    }\n</style>\n<table border=\"1\" class=\"dataframe\">\n  <thead>\n    <tr style=\"text-align: right;\">\n      <th></th>\n      <th>movie_id</th>\n      <th>release_date</th>\n      <th>unknown</th>\n      <th>Action</th>\n      <th>Adventure</th>\n      <th>Animation</th>\n      <th>Children</th>\n      <th>Comedy</th>\n      <th>Crime</th>\n      <th>Documentary</th>\n      <th>...</th>\n      <th>Musical</th>\n      <th>Mystery</th>\n      <th>Romance</th>\n      <th>Sci_Fi</th>\n      <th>Thriller</th>\n      <th>War</th>\n      <th>Western</th>\n      <th>user_id</th>\n      <th>rating</th>\n      <th>age</th>\n    </tr>\n  </thead>\n  <tbody>\n    <tr>\n      <th>count</th>\n      <td>100000.000000</td>\n      <td>99991.000000</td>\n      <td>100000.0000</td>\n      <td>100000.000000</td>\n      <td>100000.000000</td>\n      <td>100000.000000</td>\n      <td>100000.000000</td>\n      <td>100000.000000</td>\n      <td>100000.000000</td>\n      <td>100000.000000</td>\n      <td>...</td>\n      <td>100000.000000</td>\n      <td>100000.000000</td>\n      <td>100000.000000</td>\n      <td>100000.00000</td>\n      <td>100000.00000</td>\n      <td>100000.000000</td>\n      <td>100000.000000</td>\n      <td>100000.00000</td>\n      <td>100000.000000</td>\n      <td>100000.000000</td>\n    </tr>\n    <tr>\n      <th>mean</th>\n      <td>425.530130</td>\n      <td>1987.956216</td>\n      <td>0.0001</td>\n      <td>0.255890</td>\n      <td>0.137530</td>\n      <td>0.036050</td>\n      <td>0.071820</td>\n      <td>0.298320</td>\n      <td>0.080550</td>\n      <td>0.007580</td>\n      <td>...</td>\n      <td>0.049540</td>\n      <td>0.052450</td>\n      <td>0.194610</td>\n      <td>0.12730</td>\n      <td>0.21872</td>\n      <td>0.093980</td>\n      <td>0.018540</td>\n      <td>462.48475</td>\n      <td>3.529860</td>\n      <td>32.969850</td>\n    </tr>\n    <tr>\n      <th>std</th>\n      <td>330.798356</td>\n      <td>14.155523</td>\n      <td>0.0100</td>\n      <td>0.436362</td>\n      <td>0.344408</td>\n      <td>0.186416</td>\n      <td>0.258191</td>\n      <td>0.457523</td>\n      <td>0.272144</td>\n      <td>0.086733</td>\n      <td>...</td>\n      <td>0.216994</td>\n      <td>0.222934</td>\n      <td>0.395902</td>\n      <td>0.33331</td>\n      <td>0.41338</td>\n      <td>0.291802</td>\n      <td>0.134894</td>\n      <td>266.61442</td>\n      <td>1.125674</td>\n      <td>11.562623</td>\n    </tr>\n    <tr>\n      <th>min</th>\n      <td>1.000000</td>\n      <td>1922.000000</td>\n      <td>0.0000</td>\n      <td>0.000000</td>\n      <td>0.000000</td>\n      <td>0.000000</td>\n      <td>0.000000</td>\n      <td>0.000000</td>\n      <td>0.000000</td>\n      <td>0.000000</td>\n      <td>...</td>\n      <td>0.000000</td>\n      <td>0.000000</td>\n      <td>0.000000</td>\n      <td>0.00000</td>\n      <td>0.00000</td>\n      <td>0.000000</td>\n      <td>0.000000</td>\n      <td>1.00000</td>\n      <td>1.000000</td>\n      <td>7.000000</td>\n    </tr>\n    <tr>\n      <th>25%</th>\n      <td>175.000000</td>\n      <td>1986.000000</td>\n      <td>0.0000</td>\n      <td>0.000000</td>\n      <td>0.000000</td>\n      <td>0.000000</td>\n      <td>0.000000</td>\n      <td>0.000000</td>\n      <td>0.000000</td>\n      <td>0.000000</td>\n      <td>...</td>\n      <td>0.000000</td>\n      <td>0.000000</td>\n      <td>0.000000</td>\n      <td>0.00000</td>\n      <td>0.00000</td>\n      <td>0.000000</td>\n      <td>0.000000</td>\n      <td>254.00000</td>\n      <td>3.000000</td>\n      <td>24.000000</td>\n    </tr>\n    <tr>\n      <th>50%</th>\n      <td>322.000000</td>\n      <td>1994.000000</td>\n      <td>0.0000</td>\n      <td>0.000000</td>\n      <td>0.000000</td>\n      <td>0.000000</td>\n      <td>0.000000</td>\n      <td>0.000000</td>\n      <td>0.000000</td>\n      <td>0.000000</td>\n      <td>...</td>\n      <td>0.000000</td>\n      <td>0.000000</td>\n      <td>0.000000</td>\n      <td>0.00000</td>\n      <td>0.00000</td>\n      <td>0.000000</td>\n      <td>0.000000</td>\n      <td>447.00000</td>\n      <td>4.000000</td>\n      <td>30.000000</td>\n    </tr>\n    <tr>\n      <th>75%</th>\n      <td>631.000000</td>\n      <td>1996.000000</td>\n      <td>0.0000</td>\n      <td>1.000000</td>\n      <td>0.000000</td>\n      <td>0.000000</td>\n      <td>0.000000</td>\n      <td>1.000000</td>\n      <td>0.000000</td>\n      <td>0.000000</td>\n      <td>...</td>\n      <td>0.000000</td>\n      <td>0.000000</td>\n      <td>0.000000</td>\n      <td>0.00000</td>\n      <td>0.00000</td>\n      <td>0.000000</td>\n      <td>0.000000</td>\n      <td>682.00000</td>\n      <td>4.000000</td>\n      <td>40.000000</td>\n    </tr>\n    <tr>\n      <th>max</th>\n      <td>1682.000000</td>\n      <td>1998.000000</td>\n      <td>1.0000</td>\n      <td>1.000000</td>\n      <td>1.000000</td>\n      <td>1.000000</td>\n      <td>1.000000</td>\n      <td>1.000000</td>\n      <td>1.000000</td>\n      <td>1.000000</td>\n      <td>...</td>\n      <td>1.000000</td>\n      <td>1.000000</td>\n      <td>1.000000</td>\n      <td>1.00000</td>\n      <td>1.00000</td>\n      <td>1.000000</td>\n      <td>1.000000</td>\n      <td>943.00000</td>\n      <td>5.000000</td>\n      <td>73.000000</td>\n    </tr>\n  </tbody>\n</table>\n<p>8 rows × 24 columns</p>\n</div>"
     },
     "execution_count": 8,
     "metadata": {},
     "output_type": "execute_result"
    }
   ],
   "source": [
    "df_all.describe()"
   ],
   "metadata": {
    "collapsed": false
   }
  },
  {
   "cell_type": "code",
   "execution_count": 9,
   "outputs": [
    {
     "data": {
      "text/plain": "<Figure size 640x480 with 1 Axes>",
      "image/png": "[encoded data removed]"
     },
     "metadata": {},
     "output_type": "display_data"
    }
   ],
   "source": [
    "# The 30 most rated movies\n",
    "most_rated = df_all.groupby(by = 'movie_title').size().sort_values(ascending=False)[:30]\n",
    "#lens.movie_title.value_counts()[:30]\n",
    "\n",
    "movie_stats = df_all.groupby('movie_title').agg({'rating': [np.size, np.mean]}).sort_values([('rating', 'mean')], ascending=False)\n",
    "\n",
    "rate_atleast_200 = movie_stats['rating']['size'] >= 200\n",
    "movie_stats[rate_atleast_200].sort_values([('rating', 'mean')],ascending=False)\n",
    "\n",
    "most_50 = df_all.groupby('movie_title').size().sort_values(ascending=False)[:50]\n",
    "\n",
    "plt.figure()\n",
    "sn.histplot(users['age'],bins = 30)\n",
    "plt.title(\"Distribution of users' ages\")\n",
    "plt.ylabel('count of users')\n",
    "plt.xlabel('age')\n",
    "\n",
    "plt.hist(users['age'],bins=30)\n",
    "plt.title(\"Distribution of users' ages\")\n",
    "plt.ylabel('count of users')\n",
    "plt.xlabel('age')\n",
    "\n",
    "labels = ['0-9', '10-19', '20-29', '30-39', '40-49', '50-59', '60-69', '70-79']\n",
    "df_all['age_group'] = pd.cut(df_all.age, range(0, 81, 10), right=False, labels=labels)\n",
    "df_all.groupby('age_group').agg({'rating': [np.size, np.mean]})\n",
    "df_all.set_index('movie_title', inplace=True)\n",
    "\n",
    "by_age = df_all.loc[most_50.index].groupby(['movie_title', 'age_group'])\n",
    "by_age = by_age.rating.mean().unstack(1).fillna(0)\n",
    "\n",
    "df_all.reset_index(inplace=True)\n",
    "df_all.set_index('movie_title', inplace=True)\n",
    "\n",
    "pivoted = df_all.pivot_table(index=['movie_title'],\n",
    "                           columns=['gender'],\n",
    "                           values='rating',\n",
    "                           fill_value=0)"
   ],
   "metadata": {
    "collapsed": false
   }
  },
  {
   "cell_type": "code",
   "execution_count": 9,
   "outputs": [],
   "source": [],
   "metadata": {
    "collapsed": false
   }
  },
  {
   "cell_type": "markdown",
   "source": [
    "# First steps in deep learning\n",
    "\n",
    "## Daten laden:\n",
    "## Normieren:\n",
    "## Modell erstellen: bzw Netz erstellen\n",
    "Mit einem pretrained Model starten und darauf aufbauen und das neural network erweitern\n",
    "### Flatten Layer:\n",
    "nimmt Matrizen und erstellt daraus einen eindimensionalen Vektor mit den \"Zeilen\" hintereinander\n",
    "### Dense Layer:\n",
    "fully connected Layer, macht aus x Eingaben y Ausgabeparameter, ist zwar langsam aber dafür sehr präzise\n",
    "### Output-Layer:\n",
    "10 Möglichkeiten, je nach gewichtung wird ein Ausgang beim MNIST gewählt.\n",
    "Für Movielens den Sigmoid ans Ende packen.\n",
    "## Modell kompilieren:\n",
    "Tensorflow-Ding\n",
    "definiert optimizer (wie macht mans besser), Loss (Loss-Funktion) und Metrik (Was wird als gut bewertet)\n",
    "## modell trainieren:\n",
    "model.fit\n",
    "\n",
    "## Modell predicten\n",
    "kann man auch bezüglich der Fehler prüfen, z.B.: warum wurde das nicht erkannt?\n",
    "model.predict(np.expand_dims(x_validation[10],0))\n",
    "mit round drumherum geht es auf 1 bzw 0\n",
    "## modell validieren:\n"
   ],
   "metadata": {
    "collapsed": false
   }
  },
  {
   "cell_type": "markdown",
   "source": [
    "anregungen vom 8.12.:\n",
    "\n",
    "nicht bloaten,\n",
    "data analysis; was genau haben wir da und auch nach split beachten, welche params wichtig sind und welche nicht\n",
    "beachten und nichtbeachten von verteilungen und geografischen Angaben."
   ],
   "metadata": {
    "collapsed": false
   }
  }
 ],
 "metadata": {
  "kernelspec": {
   "display_name": "Python 3",
   "language": "python",
   "name": "python3"
  },
  "language_info": {
   "codemirror_mode": {
    "name": "ipython",
    "version": 2
   },
   "file_extension": ".py",
   "mimetype": "text/x-python",
   "name": "python",
   "nbconvert_exporter": "python",
   "pygments_lexer": "ipython2",
   "version": "2.7.6"
  }
 },
 "nbformat": 4,
 "nbformat_minor": 0
}
